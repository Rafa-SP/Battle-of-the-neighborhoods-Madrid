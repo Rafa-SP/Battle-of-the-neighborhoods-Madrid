{
 "cells": [
  {
   "cell_type": "markdown",
   "metadata": {},
   "source": [
    "## Install the needed packages"
   ]
  },
  {
   "cell_type": "code",
   "execution_count": 3,
   "metadata": {},
   "outputs": [
    {
     "name": "stdout",
     "output_type": "stream",
     "text": [
      "Requirement already satisfied: geocoder in /Users/rafaelsanchezparra/opt/anaconda3/lib/python3.8/site-packages (1.38.1)\n",
      "Requirement already satisfied: ratelim in /Users/rafaelsanchezparra/opt/anaconda3/lib/python3.8/site-packages (from geocoder) (0.1.6)\n",
      "Requirement already satisfied: click in /Users/rafaelsanchezparra/opt/anaconda3/lib/python3.8/site-packages (from geocoder) (7.1.2)\n",
      "Requirement already satisfied: requests in /Users/rafaelsanchezparra/opt/anaconda3/lib/python3.8/site-packages (from geocoder) (2.24.0)\n",
      "Requirement already satisfied: six in /Users/rafaelsanchezparra/opt/anaconda3/lib/python3.8/site-packages (from geocoder) (1.15.0)\n",
      "Requirement already satisfied: future in /Users/rafaelsanchezparra/opt/anaconda3/lib/python3.8/site-packages (from geocoder) (0.18.2)\n",
      "Requirement already satisfied: decorator in /Users/rafaelsanchezparra/opt/anaconda3/lib/python3.8/site-packages (from ratelim->geocoder) (4.4.2)\n",
      "Requirement already satisfied: idna<3,>=2.5 in /Users/rafaelsanchezparra/opt/anaconda3/lib/python3.8/site-packages (from requests->geocoder) (2.10)\n",
      "Requirement already satisfied: certifi>=2017.4.17 in /Users/rafaelsanchezparra/opt/anaconda3/lib/python3.8/site-packages (from requests->geocoder) (2020.6.20)\n",
      "Requirement already satisfied: chardet<4,>=3.0.2 in /Users/rafaelsanchezparra/opt/anaconda3/lib/python3.8/site-packages (from requests->geocoder) (3.0.4)\n",
      "Requirement already satisfied: urllib3!=1.25.0,!=1.25.1,<1.26,>=1.21.1 in /Users/rafaelsanchezparra/opt/anaconda3/lib/python3.8/site-packages (from requests->geocoder) (1.25.11)\n",
      "package installed\n"
     ]
    }
   ],
   "source": [
    "#Geocode Package\n",
    "\n",
    "import sys\n",
    "!{sys.executable} -m pip install geocoder\n",
    "print('package installed')"
   ]
  },
  {
   "cell_type": "code",
   "execution_count": 4,
   "metadata": {},
   "outputs": [
    {
     "name": "stdout",
     "output_type": "stream",
     "text": [
      "Collecting package metadata (current_repodata.json): done\n",
      "Solving environment: done\n",
      "\n",
      "# All requested packages already installed.\n",
      "\n",
      "package installed\n"
     ]
    }
   ],
   "source": [
    "# install geopy package\n",
    "\n",
    "!conda install -c conda-forge geopy --yes\n",
    "print('package installed')"
   ]
  },
  {
   "cell_type": "code",
   "execution_count": 5,
   "metadata": {},
   "outputs": [
    {
     "name": "stdout",
     "output_type": "stream",
     "text": [
      "Collecting package metadata (current_repodata.json): done\n",
      "Solving environment: done\n",
      "\n",
      "# All requested packages already installed.\n",
      "\n",
      "package installed\n"
     ]
    }
   ],
   "source": [
    "# install folium package\n",
    "\n",
    "!conda install -c conda-forge folium=0.5.0 --yes\n",
    "print('package installed')"
   ]
  },
  {
   "cell_type": "code",
   "execution_count": 8,
   "metadata": {},
   "outputs": [],
   "source": [
    "#import libraries\n",
    "\n",
    "import pandas as pd  # library for data analsysis\n",
    "import requests  # library to handle requests\n",
    "import geocoder\n",
    "import json  # library to handle JSON files\n",
    "from pandas.io.json import json_normalize  # tranform JSON file into a pandas dataframe\n",
    "import numpy as np  # library to handle data in a vectorized manner\n",
    "import matplotlib.cm as cm  # Matplotlib and associated plotting modules\n",
    "import matplotlib.colors as colors\n",
    "from geopy.geocoders import Nominatim  # convert an address into latitude and longitude values\n",
    "from sklearn.cluster import KMeans  # import k-means from clustering stage\n",
    "import folium  # map rendering library"
   ]
  },
  {
   "cell_type": "code",
   "execution_count": 13,
   "metadata": {},
   "outputs": [
    {
     "data": {
      "text/html": [
       "<div>\n",
       "<style scoped>\n",
       "    .dataframe tbody tr th:only-of-type {\n",
       "        vertical-align: middle;\n",
       "    }\n",
       "\n",
       "    .dataframe tbody tr th {\n",
       "        vertical-align: top;\n",
       "    }\n",
       "\n",
       "    .dataframe thead th {\n",
       "        text-align: right;\n",
       "    }\n",
       "</style>\n",
       "<table border=\"1\" class=\"dataframe\">\n",
       "  <thead>\n",
       "    <tr style=\"text-align: right;\">\n",
       "      <th></th>\n",
       "      <th>Codigo de barrio</th>\n",
       "      <th>Codigo de distrito al que pertenece</th>\n",
       "      <th>Nombre de barrio</th>\n",
       "      <th>Superficie (m2)</th>\n",
       "      <th>Perimetro (m)</th>\n",
       "    </tr>\n",
       "  </thead>\n",
       "  <tbody>\n",
       "    <tr>\n",
       "      <th>0</th>\n",
       "      <td>1</td>\n",
       "      <td>1</td>\n",
       "      <td>PALACIO</td>\n",
       "      <td>1471085</td>\n",
       "      <td>5754</td>\n",
       "    </tr>\n",
       "    <tr>\n",
       "      <th>1</th>\n",
       "      <td>1</td>\n",
       "      <td>2</td>\n",
       "      <td>IMPERIAL</td>\n",
       "      <td>967500</td>\n",
       "      <td>4557</td>\n",
       "    </tr>\n",
       "    <tr>\n",
       "      <th>2</th>\n",
       "      <td>1</td>\n",
       "      <td>3</td>\n",
       "      <td>PACIFICO</td>\n",
       "      <td>750065</td>\n",
       "      <td>4005</td>\n",
       "    </tr>\n",
       "    <tr>\n",
       "      <th>3</th>\n",
       "      <td>1</td>\n",
       "      <td>4</td>\n",
       "      <td>RECOLETOS</td>\n",
       "      <td>870857</td>\n",
       "      <td>3927</td>\n",
       "    </tr>\n",
       "    <tr>\n",
       "      <th>4</th>\n",
       "      <td>1</td>\n",
       "      <td>5</td>\n",
       "      <td>EL VISO</td>\n",
       "      <td>1708046</td>\n",
       "      <td>5269</td>\n",
       "    </tr>\n",
       "  </tbody>\n",
       "</table>\n",
       "</div>"
      ],
      "text/plain": [
       "   Codigo de barrio  Codigo de distrito al que pertenece  \\\n",
       "0                 1                                    1   \n",
       "1                 1                                    2   \n",
       "2                 1                                    3   \n",
       "3                 1                                    4   \n",
       "4                 1                                    5   \n",
       "\n",
       "       Nombre de barrio  Superficie (m2)  Perimetro (m)  \n",
       "0  PALACIO                       1471085           5754  \n",
       "1  IMPERIAL                       967500           4557  \n",
       "2  PACIFICO                       750065           4005  \n",
       "3  RECOLETOS                      870857           3927  \n",
       "4  EL VISO                       1708046           5269  "
      ]
     },
     "execution_count": 13,
     "metadata": {},
     "output_type": "execute_result"
    }
   ],
   "source": [
    "# Get neighborhood data: 'cod_distrito', 'distrito', 'cod_barrio', 'barrio' \n",
    "\n",
    "neighborhoods = pd.read_csv('BARRIOS.csv',sep=';')\n",
    "neighborhoods.head()"
   ]
  },
  {
   "cell_type": "code",
   "execution_count": 14,
   "metadata": {},
   "outputs": [
    {
     "data": {
      "text/html": [
       "<div>\n",
       "<style scoped>\n",
       "    .dataframe tbody tr th:only-of-type {\n",
       "        vertical-align: middle;\n",
       "    }\n",
       "\n",
       "    .dataframe tbody tr th {\n",
       "        vertical-align: top;\n",
       "    }\n",
       "\n",
       "    .dataframe thead th {\n",
       "        text-align: right;\n",
       "    }\n",
       "</style>\n",
       "<table border=\"1\" class=\"dataframe\">\n",
       "  <thead>\n",
       "    <tr style=\"text-align: right;\">\n",
       "      <th></th>\n",
       "      <th>Perimetro (m)</th>\n",
       "      <th>Codigo de distrito</th>\n",
       "      <th>Nombre de distrito</th>\n",
       "      <th>Numero de barrios</th>\n",
       "      <th>Superficie (m2)</th>\n",
       "    </tr>\n",
       "  </thead>\n",
       "  <tbody>\n",
       "    <tr>\n",
       "      <th>0</th>\n",
       "      <td>10304</td>\n",
       "      <td>1</td>\n",
       "      <td>CENTRO</td>\n",
       "      <td>6</td>\n",
       "      <td>5231264</td>\n",
       "    </tr>\n",
       "    <tr>\n",
       "      <th>1</th>\n",
       "      <td>12834</td>\n",
       "      <td>2</td>\n",
       "      <td>ARGANZUELA</td>\n",
       "      <td>7</td>\n",
       "      <td>6466400</td>\n",
       "    </tr>\n",
       "    <tr>\n",
       "      <th>2</th>\n",
       "      <td>9523</td>\n",
       "      <td>3</td>\n",
       "      <td>RETIRO</td>\n",
       "      <td>6</td>\n",
       "      <td>5465307</td>\n",
       "    </tr>\n",
       "    <tr>\n",
       "      <th>3</th>\n",
       "      <td>10862</td>\n",
       "      <td>4</td>\n",
       "      <td>SALAMANCA</td>\n",
       "      <td>6</td>\n",
       "      <td>5387243</td>\n",
       "    </tr>\n",
       "    <tr>\n",
       "      <th>4</th>\n",
       "      <td>13401</td>\n",
       "      <td>5</td>\n",
       "      <td>CHAMARTIN</td>\n",
       "      <td>6</td>\n",
       "      <td>9170122</td>\n",
       "    </tr>\n",
       "  </tbody>\n",
       "</table>\n",
       "</div>"
      ],
      "text/plain": [
       "   Perimetro (m)  Codigo de distrito    Nombre de distrito  Numero de barrios  \\\n",
       "0          10304                   1  CENTRO                                6   \n",
       "1          12834                   2  ARGANZUELA                            7   \n",
       "2           9523                   3  RETIRO                                6   \n",
       "3          10862                   4  SALAMANCA                             6   \n",
       "4          13401                   5  CHAMARTIN                             6   \n",
       "\n",
       "   Superficie (m2)  \n",
       "0          5231264  \n",
       "1          6466400  \n",
       "2          5465307  \n",
       "3          5387243  \n",
       "4          9170122  "
      ]
     },
     "execution_count": 14,
     "metadata": {},
     "output_type": "execute_result"
    }
   ],
   "source": [
    "boroughs = pd.read_csv('DISTRITOS.csv',sep=';')\n",
    "boroughs.head()"
   ]
  },
  {
   "cell_type": "code",
   "execution_count": null,
   "metadata": {},
   "outputs": [],
   "source": []
  }
 ],
 "metadata": {
  "kernelspec": {
   "display_name": "Python 3",
   "language": "python",
   "name": "python3"
  },
  "language_info": {
   "codemirror_mode": {
    "name": "ipython",
    "version": 3
   },
   "file_extension": ".py",
   "mimetype": "text/x-python",
   "name": "python",
   "nbconvert_exporter": "python",
   "pygments_lexer": "ipython3",
   "version": "3.8.5"
  }
 },
 "nbformat": 4,
 "nbformat_minor": 4
}
